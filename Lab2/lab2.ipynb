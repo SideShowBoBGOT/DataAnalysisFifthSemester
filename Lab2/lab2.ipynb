{
 "cells": [
  {
   "attachments": {},
   "cell_type": "markdown",
   "metadata": {},
   "source": [
    "# 3 Завдання"
   ]
  },
  {
   "attachments": {},
   "cell_type": "markdown",
   "metadata": {},
   "source": [
    "## 3.1 Знайти середній вік матерів і батьків і порівняти ці середні значення"
   ]
  },
  {
   "attachments": {},
   "cell_type": "markdown",
   "metadata": {},
   "source": [
    "### Для початку створимо датафрейм з датасету Birthweight.csv."
   ]
  },
  {
   "cell_type": "code",
   "execution_count": 68,
   "metadata": {},
   "outputs": [
    {
     "data": {
      "text/html": [
       "<div>\n",
       "<style scoped>\n",
       "    .dataframe tbody tr th:only-of-type {\n",
       "        vertical-align: middle;\n",
       "    }\n",
       "\n",
       "    .dataframe tbody tr th {\n",
       "        vertical-align: top;\n",
       "    }\n",
       "\n",
       "    .dataframe thead th {\n",
       "        text-align: right;\n",
       "    }\n",
       "</style>\n",
       "<table border=\"1\" class=\"dataframe\">\n",
       "  <thead>\n",
       "    <tr style=\"text-align: right;\">\n",
       "      <th></th>\n",
       "      <th>ID</th>\n",
       "      <th>Length</th>\n",
       "      <th>Birthweight</th>\n",
       "      <th>Headcirc</th>\n",
       "      <th>Gestation</th>\n",
       "      <th>smoker</th>\n",
       "      <th>mage</th>\n",
       "      <th>mnocig</th>\n",
       "      <th>mheight</th>\n",
       "      <th>mppwt</th>\n",
       "      <th>fage</th>\n",
       "      <th>fedyrs</th>\n",
       "      <th>fnocig</th>\n",
       "      <th>fheight</th>\n",
       "      <th>lowbwt</th>\n",
       "      <th>mage35</th>\n",
       "    </tr>\n",
       "  </thead>\n",
       "  <tbody>\n",
       "    <tr>\n",
       "      <th>0</th>\n",
       "      <td>1360</td>\n",
       "      <td>56</td>\n",
       "      <td>4.55</td>\n",
       "      <td>34</td>\n",
       "      <td>44</td>\n",
       "      <td>0</td>\n",
       "      <td>20</td>\n",
       "      <td>0</td>\n",
       "      <td>162</td>\n",
       "      <td>57</td>\n",
       "      <td>23</td>\n",
       "      <td>10</td>\n",
       "      <td>35</td>\n",
       "      <td>179</td>\n",
       "      <td>0</td>\n",
       "      <td>0</td>\n",
       "    </tr>\n",
       "    <tr>\n",
       "      <th>1</th>\n",
       "      <td>1016</td>\n",
       "      <td>53</td>\n",
       "      <td>4.32</td>\n",
       "      <td>36</td>\n",
       "      <td>40</td>\n",
       "      <td>0</td>\n",
       "      <td>19</td>\n",
       "      <td>0</td>\n",
       "      <td>171</td>\n",
       "      <td>62</td>\n",
       "      <td>19</td>\n",
       "      <td>12</td>\n",
       "      <td>0</td>\n",
       "      <td>183</td>\n",
       "      <td>0</td>\n",
       "      <td>0</td>\n",
       "    </tr>\n",
       "    <tr>\n",
       "      <th>2</th>\n",
       "      <td>462</td>\n",
       "      <td>58</td>\n",
       "      <td>4.10</td>\n",
       "      <td>39</td>\n",
       "      <td>41</td>\n",
       "      <td>0</td>\n",
       "      <td>35</td>\n",
       "      <td>0</td>\n",
       "      <td>172</td>\n",
       "      <td>58</td>\n",
       "      <td>31</td>\n",
       "      <td>16</td>\n",
       "      <td>25</td>\n",
       "      <td>185</td>\n",
       "      <td>0</td>\n",
       "      <td>1</td>\n",
       "    </tr>\n",
       "    <tr>\n",
       "      <th>3</th>\n",
       "      <td>1187</td>\n",
       "      <td>53</td>\n",
       "      <td>4.07</td>\n",
       "      <td>38</td>\n",
       "      <td>44</td>\n",
       "      <td>0</td>\n",
       "      <td>20</td>\n",
       "      <td>0</td>\n",
       "      <td>174</td>\n",
       "      <td>68</td>\n",
       "      <td>26</td>\n",
       "      <td>14</td>\n",
       "      <td>25</td>\n",
       "      <td>189</td>\n",
       "      <td>0</td>\n",
       "      <td>0</td>\n",
       "    </tr>\n",
       "    <tr>\n",
       "      <th>4</th>\n",
       "      <td>553</td>\n",
       "      <td>54</td>\n",
       "      <td>3.94</td>\n",
       "      <td>37</td>\n",
       "      <td>42</td>\n",
       "      <td>0</td>\n",
       "      <td>24</td>\n",
       "      <td>0</td>\n",
       "      <td>175</td>\n",
       "      <td>66</td>\n",
       "      <td>30</td>\n",
       "      <td>12</td>\n",
       "      <td>0</td>\n",
       "      <td>184</td>\n",
       "      <td>0</td>\n",
       "      <td>0</td>\n",
       "    </tr>\n",
       "    <tr>\n",
       "      <th>5</th>\n",
       "      <td>1636</td>\n",
       "      <td>51</td>\n",
       "      <td>3.93</td>\n",
       "      <td>38</td>\n",
       "      <td>38</td>\n",
       "      <td>0</td>\n",
       "      <td>29</td>\n",
       "      <td>0</td>\n",
       "      <td>165</td>\n",
       "      <td>61</td>\n",
       "      <td>31</td>\n",
       "      <td>16</td>\n",
       "      <td>0</td>\n",
       "      <td>180</td>\n",
       "      <td>0</td>\n",
       "      <td>0</td>\n",
       "    </tr>\n",
       "    <tr>\n",
       "      <th>6</th>\n",
       "      <td>820</td>\n",
       "      <td>52</td>\n",
       "      <td>3.77</td>\n",
       "      <td>34</td>\n",
       "      <td>40</td>\n",
       "      <td>0</td>\n",
       "      <td>24</td>\n",
       "      <td>0</td>\n",
       "      <td>157</td>\n",
       "      <td>50</td>\n",
       "      <td>31</td>\n",
       "      <td>16</td>\n",
       "      <td>0</td>\n",
       "      <td>173</td>\n",
       "      <td>0</td>\n",
       "      <td>0</td>\n",
       "    </tr>\n",
       "    <tr>\n",
       "      <th>7</th>\n",
       "      <td>1191</td>\n",
       "      <td>53</td>\n",
       "      <td>3.65</td>\n",
       "      <td>33</td>\n",
       "      <td>42</td>\n",
       "      <td>0</td>\n",
       "      <td>21</td>\n",
       "      <td>0</td>\n",
       "      <td>165</td>\n",
       "      <td>61</td>\n",
       "      <td>21</td>\n",
       "      <td>10</td>\n",
       "      <td>25</td>\n",
       "      <td>185</td>\n",
       "      <td>0</td>\n",
       "      <td>0</td>\n",
       "    </tr>\n",
       "    <tr>\n",
       "      <th>8</th>\n",
       "      <td>1081</td>\n",
       "      <td>54</td>\n",
       "      <td>3.63</td>\n",
       "      <td>38</td>\n",
       "      <td>38</td>\n",
       "      <td>0</td>\n",
       "      <td>18</td>\n",
       "      <td>0</td>\n",
       "      <td>172</td>\n",
       "      <td>50</td>\n",
       "      <td>20</td>\n",
       "      <td>12</td>\n",
       "      <td>7</td>\n",
       "      <td>172</td>\n",
       "      <td>0</td>\n",
       "      <td>0</td>\n",
       "    </tr>\n",
       "    <tr>\n",
       "      <th>9</th>\n",
       "      <td>822</td>\n",
       "      <td>50</td>\n",
       "      <td>3.42</td>\n",
       "      <td>35</td>\n",
       "      <td>38</td>\n",
       "      <td>0</td>\n",
       "      <td>20</td>\n",
       "      <td>0</td>\n",
       "      <td>157</td>\n",
       "      <td>48</td>\n",
       "      <td>22</td>\n",
       "      <td>14</td>\n",
       "      <td>0</td>\n",
       "      <td>179</td>\n",
       "      <td>0</td>\n",
       "      <td>0</td>\n",
       "    </tr>\n",
       "  </tbody>\n",
       "</table>\n",
       "</div>"
      ],
      "text/plain": [
       "     ID  Length  Birthweight  Headcirc  Gestation  smoker  mage  mnocig  \\\n",
       "0  1360      56         4.55        34         44       0    20       0   \n",
       "1  1016      53         4.32        36         40       0    19       0   \n",
       "2   462      58         4.10        39         41       0    35       0   \n",
       "3  1187      53         4.07        38         44       0    20       0   \n",
       "4   553      54         3.94        37         42       0    24       0   \n",
       "5  1636      51         3.93        38         38       0    29       0   \n",
       "6   820      52         3.77        34         40       0    24       0   \n",
       "7  1191      53         3.65        33         42       0    21       0   \n",
       "8  1081      54         3.63        38         38       0    18       0   \n",
       "9   822      50         3.42        35         38       0    20       0   \n",
       "\n",
       "   mheight  mppwt  fage  fedyrs  fnocig  fheight  lowbwt  mage35  \n",
       "0      162     57    23      10      35      179       0       0  \n",
       "1      171     62    19      12       0      183       0       0  \n",
       "2      172     58    31      16      25      185       0       1  \n",
       "3      174     68    26      14      25      189       0       0  \n",
       "4      175     66    30      12       0      184       0       0  \n",
       "5      165     61    31      16       0      180       0       0  \n",
       "6      157     50    31      16       0      173       0       0  \n",
       "7      165     61    21      10      25      185       0       0  \n",
       "8      172     50    20      12       7      172       0       0  \n",
       "9      157     48    22      14       0      179       0       0  "
      ]
     },
     "execution_count": 68,
     "metadata": {},
     "output_type": "execute_result"
    }
   ],
   "source": [
    "import pandas as pd\n",
    "import numpy as np\n",
    "df = pd.read_csv('data/Birthweight.csv')\n",
    "df.head(10)"
   ]
  },
  {
   "attachments": {},
   "cell_type": "markdown",
   "metadata": {},
   "source": [
    "*Датафрейм Birthweight.csv*"
   ]
  },
  {
   "attachments": {},
   "cell_type": "markdown",
   "metadata": {},
   "source": [
    "### Оскільки лабораторна робота вимагає саме використання NumPy, а не Pandas, то дістанемо матрицю даних з датафрейма, а індекси колонок будемо знаходити за допомогою словника."
   ]
  },
  {
   "cell_type": "code",
   "execution_count": 69,
   "metadata": {},
   "outputs": [
    {
     "name": "stdout",
     "output_type": "stream",
     "text": [
      "1360\n",
      "1360.0\n",
      "10\n"
     ]
    }
   ],
   "source": [
    "mat = df.values\n",
    "cols = dict([\n",
    "    (name, index) for index, name in enumerate(df.columns)])\n",
    "print(df.loc[0, 'ID'])\n",
    "print(mat[0, cols['ID']])\n",
    "print(cols[\"fage\"])"
   ]
  },
  {
   "attachments": {},
   "cell_type": "markdown",
   "metadata": {},
   "source": [
    "*Робота з матрицею NumPy*"
   ]
  },
  {
   "attachments": {},
   "cell_type": "markdown",
   "metadata": {},
   "source": [
    "### Знайдемо середній вік матері та батька по всіх новонароджених, порівняємо їх. mage - колонка віку батька дитини, fage - колонка віку матері дитини. Побачимо, що вік матері в середньому вищий."
   ]
  },
  {
   "cell_type": "code",
   "execution_count": 70,
   "metadata": {},
   "outputs": [
    {
     "name": "stdout",
     "output_type": "stream",
     "text": [
      "Mean male age: 25.547619047619047\n",
      "Mean female age: 28.904761904761905\n",
      "Delta: 3.3571428571428577\n"
     ]
    }
   ],
   "source": [
    "mean_mage = mat[:, cols[\"mage\"]].mean()\n",
    "mean_fage = mat[:, cols[\"fage\"]].mean()\n",
    "print(f'Mean male age: {mean_mage}')\n",
    "print(f'Mean female age: {mean_fage}')\n",
    "print(f\"Delta: {mean_fage - mean_mage}\")"
   ]
  },
  {
   "attachments": {},
   "cell_type": "markdown",
   "metadata": {},
   "source": [
    "*Середній вік батьків - матері та батька дитини*"
   ]
  },
  {
   "attachments": {},
   "cell_type": "markdown",
   "metadata": {},
   "source": [
    "## 3.2 Перевірити чи нормально розподілена вага дітей"
   ]
  },
  {
   "attachments": {},
   "cell_type": "markdown",
   "metadata": {},
   "source": [
    "### Перевіримо нормальність розподілу ваги дітей за допомогою критерію Андерсона. Імпортуємо з пакету scipy модуль stats, використаємо тест Колмогорова-Смірнова. Побачимо, що розподіл ваги дітей не є нормальним. Якщо pvalue < 0.05, то приймається альтернативна гіпотеза."
   ]
  },
  {
   "cell_type": "code",
   "execution_count": 71,
   "metadata": {},
   "outputs": [
    {
     "name": "stdout",
     "output_type": "stream",
     "text": [
      "KstestResult(statistic=0.7499793424930875, pvalue=8.015167938365836e-10)\n",
      "Is pvalue > 0.05? False\n",
      "H_0 is False\n"
     ]
    }
   ],
   "source": [
    "import scipy.stats as stats\n",
    "res = stats.kstest(mat[cols[\"Birthweight\"]], 'norm')\n",
    "print(res)\n",
    "print(f'Is pvalue > 0.05? {res.pvalue > 0.05}')\n",
    "print(f'H_0 is {res.pvalue > 0.05}')\n"
   ]
  },
  {
   "attachments": {},
   "cell_type": "markdown",
   "metadata": {},
   "source": [
    "*Перевірка розподілу ваги на нормальність за допомогою теста Колмогорова-Смірнова*"
   ]
  },
  {
   "attachments": {},
   "cell_type": "markdown",
   "metadata": {},
   "source": [
    "## 3.3 Перевірити за допомогою статистичних гіпотез чи у матерів, що палять, легші діти"
   ]
  },
  {
   "attachments": {},
   "cell_type": "markdown",
   "metadata": {},
   "source": [
    "### Застосуємо двовибірковий t-критерій з альтернативною гіпотезою того, що у матерів, які палять, легші діти. Як бачимо альтернативна гіпотеза приймається, тому у курців діти мають меншу масу ніж у тих людей, що не палять."
   ]
  },
  {
   "cell_type": "code",
   "execution_count": 72,
   "metadata": {},
   "outputs": [
    {
     "name": "stdout",
     "output_type": "stream",
     "text": [
      "H1: smoker < no_smoker\n",
      "H1 is True\n"
     ]
    }
   ],
   "source": [
    "smoker = mat[mat[:, cols['smoker']] == 1][:, cols['Birthweight']]\n",
    "no_smoker = mat[mat[:, cols['smoker']] == 0][:, cols['Birthweight']]\n",
    "res = stats.ttest_ind(smoker, no_smoker, alternative='less')\n",
    "print('H1: smoker < no_smoker')\n",
    "print(f'H1 is {res.pvalue < 0.05}')"
   ]
  },
  {
   "attachments": {},
   "cell_type": "markdown",
   "metadata": {},
   "source": [
    "*Доведення альтернативної гіпотези, що курці мають новонароджених з меншою масою*"
   ]
  },
  {
   "attachments": {},
   "cell_type": "markdown",
   "metadata": {},
   "source": [
    "## 3.4 Чи є зв’язок між зростом матері та дитини?"
   ]
  },
  {
   "attachments": {},
   "cell_type": "markdown",
   "metadata": {},
   "source": [
    "### Використаємо тест Пірсона для перевірки даної гіпотези. Функція stats.pearsonr бере за нульову гіпотезу те, що послідовності є некорельованими та нормально розподіленими. 'two-sided' - кореляція є ненульовою, 'less' - кореляція є від'ємною, 'greater' - кореляція є додатною. Бачимо, що поле staticstic показує чітку кореляцію, а оскільки pvalue > 0.05, то кореляція існує точно."
   ]
  },
  {
   "cell_type": "code",
   "execution_count": 83,
   "metadata": {},
   "outputs": [
    {
     "name": "stdout",
     "output_type": "stream",
     "text": [
      "PearsonRResult(statistic=0.20835843471346874, pvalue=0.1854521333515197)\n",
      "pvalue > 0.05? True\n"
     ]
    }
   ],
   "source": [
    "x = np.arange(10, 20)\n",
    "y = x**2\n",
    "res = stats.pearsonr(mat[:, cols['Length']],\n",
    "               mat[:, cols['fheight']], \n",
    "               alternative='two-sided')\n",
    "print(res)\n",
    "print(f'pvalue > 0.05? {res.pvalue > 0.05}')"
   ]
  },
  {
   "attachments": {},
   "cell_type": "markdown",
   "metadata": {},
   "source": [
    "*Тест Пірсона для перевірки кореляції між зростом матері та дитини*"
   ]
  }
 ],
 "metadata": {
  "kernelspec": {
   "display_name": "Python 3",
   "language": "python",
   "name": "python3"
  },
  "language_info": {
   "codemirror_mode": {
    "name": "ipython",
    "version": 3
   },
   "file_extension": ".py",
   "mimetype": "text/x-python",
   "name": "python",
   "nbconvert_exporter": "python",
   "pygments_lexer": "ipython3",
   "version": "3.10.6"
  },
  "orig_nbformat": 4
 },
 "nbformat": 4,
 "nbformat_minor": 2
}
