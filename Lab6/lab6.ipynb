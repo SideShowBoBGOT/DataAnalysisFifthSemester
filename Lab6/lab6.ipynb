{
 "cells": [
  {
   "attachments": {},
   "cell_type": "markdown",
   "metadata": {},
   "source": [
    "# 3 Виконання"
   ]
  },
  {
   "attachments": {},
   "cell_type": "markdown",
   "metadata": {},
   "source": [
    "## 3.1 Зчитування файлу та зміна назви стовпців"
   ]
  },
  {
   "attachments": {},
   "cell_type": "markdown",
   "metadata": {},
   "source": [
    "### Для початку імпортуємо модуль pandas та застосуємо функцію pandas.read_excel для зчитування .xlsx-файлів. Видалимо колонку \"Unnamed: 0\", оскільки індекси за замовчуванням створюються."
   ]
  },
  {
   "cell_type": "code",
   "execution_count": 201,
   "metadata": {},
   "outputs": [
    {
     "data": {
      "text/html": [
       "<div>\n",
       "<style scoped>\n",
       "    .dataframe tbody tr th:only-of-type {\n",
       "        vertical-align: middle;\n",
       "    }\n",
       "\n",
       "    .dataframe tbody tr th {\n",
       "        vertical-align: top;\n",
       "    }\n",
       "\n",
       "    .dataframe thead th {\n",
       "        text-align: right;\n",
       "    }\n",
       "</style>\n",
       "<table border=\"1\" class=\"dataframe\">\n",
       "  <thead>\n",
       "    <tr style=\"text-align: right;\">\n",
       "      <th></th>\n",
       "      <th>date</th>\n",
       "      <th>meantemp</th>\n",
       "      <th>humidity</th>\n",
       "      <th>wind_speed</th>\n",
       "      <th>meanpressure</th>\n",
       "    </tr>\n",
       "  </thead>\n",
       "  <tbody>\n",
       "    <tr>\n",
       "      <th>0</th>\n",
       "      <td>2013-01-01</td>\n",
       "      <td>10.0</td>\n",
       "      <td>84.500000</td>\n",
       "      <td>0.0</td>\n",
       "      <td>1015.666667</td>\n",
       "    </tr>\n",
       "    <tr>\n",
       "      <th>1</th>\n",
       "      <td>2013-01-02</td>\n",
       "      <td>7.4</td>\n",
       "      <td>92.000000</td>\n",
       "      <td>2.98</td>\n",
       "      <td>1017.800000</td>\n",
       "    </tr>\n",
       "    <tr>\n",
       "      <th>2</th>\n",
       "      <td>2013-01-03</td>\n",
       "      <td>7.166666666666667</td>\n",
       "      <td>87.000000</td>\n",
       "      <td>4.633333333333334</td>\n",
       "      <td>1018.666667</td>\n",
       "    </tr>\n",
       "    <tr>\n",
       "      <th>3</th>\n",
       "      <td>2013-01-04</td>\n",
       "      <td>8.666666666666666</td>\n",
       "      <td>71.333333</td>\n",
       "      <td>1.2333333333333334</td>\n",
       "      <td>1017.166667</td>\n",
       "    </tr>\n",
       "    <tr>\n",
       "      <th>4</th>\n",
       "      <td>2013-01-05</td>\n",
       "      <td>6.0</td>\n",
       "      <td>86.833333</td>\n",
       "      <td>3.6999999999999997</td>\n",
       "      <td>1016.500000</td>\n",
       "    </tr>\n",
       "    <tr>\n",
       "      <th>...</th>\n",
       "      <td>...</td>\n",
       "      <td>...</td>\n",
       "      <td>...</td>\n",
       "      <td>...</td>\n",
       "      <td>...</td>\n",
       "    </tr>\n",
       "    <tr>\n",
       "      <th>1467</th>\n",
       "      <td>2016-12-28</td>\n",
       "      <td>17.217391304347824</td>\n",
       "      <td>68.043478</td>\n",
       "      <td>3.547826086956522</td>\n",
       "      <td>1015.565217</td>\n",
       "    </tr>\n",
       "    <tr>\n",
       "      <th>1468</th>\n",
       "      <td>2016-12-29</td>\n",
       "      <td>15.238095238095237</td>\n",
       "      <td>87.857143</td>\n",
       "      <td>6.0</td>\n",
       "      <td>1016.904762</td>\n",
       "    </tr>\n",
       "    <tr>\n",
       "      <th>1469</th>\n",
       "      <td>2016-12-30</td>\n",
       "      <td>14.095238095238095</td>\n",
       "      <td>89.666667</td>\n",
       "      <td>6.266666666666667</td>\n",
       "      <td>1017.904762</td>\n",
       "    </tr>\n",
       "    <tr>\n",
       "      <th>1470</th>\n",
       "      <td>2016-12-31</td>\n",
       "      <td>15.052631578947368</td>\n",
       "      <td>87.000000</td>\n",
       "      <td>7.325</td>\n",
       "      <td>1016.100000</td>\n",
       "    </tr>\n",
       "    <tr>\n",
       "      <th>1471</th>\n",
       "      <td>2017-01-01</td>\n",
       "      <td>10.0</td>\n",
       "      <td>100.000000</td>\n",
       "      <td>0.0</td>\n",
       "      <td>1016.000000</td>\n",
       "    </tr>\n",
       "  </tbody>\n",
       "</table>\n",
       "<p>1472 rows × 5 columns</p>\n",
       "</div>"
      ],
      "text/plain": [
       "            date            meantemp    humidity          wind_speed  \\\n",
       "0     2013-01-01                10.0   84.500000                 0.0   \n",
       "1     2013-01-02                 7.4   92.000000                2.98   \n",
       "2     2013-01-03   7.166666666666667   87.000000   4.633333333333334   \n",
       "3     2013-01-04   8.666666666666666   71.333333  1.2333333333333334   \n",
       "4     2013-01-05                 6.0   86.833333  3.6999999999999997   \n",
       "...          ...                 ...         ...                 ...   \n",
       "1467  2016-12-28  17.217391304347824   68.043478   3.547826086956522   \n",
       "1468  2016-12-29  15.238095238095237   87.857143                 6.0   \n",
       "1469  2016-12-30  14.095238095238095   89.666667   6.266666666666667   \n",
       "1470  2016-12-31  15.052631578947368   87.000000               7.325   \n",
       "1471  2017-01-01                10.0  100.000000                 0.0   \n",
       "\n",
       "      meanpressure  \n",
       "0      1015.666667  \n",
       "1      1017.800000  \n",
       "2      1018.666667  \n",
       "3      1017.166667  \n",
       "4      1016.500000  \n",
       "...            ...  \n",
       "1467   1015.565217  \n",
       "1468   1016.904762  \n",
       "1469   1017.904762  \n",
       "1470   1016.100000  \n",
       "1471   1016.000000  \n",
       "\n",
       "[1472 rows x 5 columns]"
      ]
     },
     "execution_count": 201,
     "metadata": {},
     "output_type": "execute_result"
    }
   ],
   "source": [
    "import pandas as pd\n",
    "import numpy as np\n",
    "df = pd.read_excel('data/Version 1.xlsx')\n",
    "df.drop(['Unnamed: 0'], axis=1, inplace=True)\n",
    "df"
   ]
  },
  {
   "attachments": {},
   "cell_type": "markdown",
   "metadata": {},
   "source": [
    "*Зчитування .xlsx-файлу в датафрейм*"
   ]
  },
  {
   "attachments": {},
   "cell_type": "markdown",
   "metadata": {},
   "source": [
    "### Змінимо назвустовпців."
   ]
  },
  {
   "cell_type": "code",
   "execution_count": 202,
   "metadata": {},
   "outputs": [
    {
     "data": {
      "text/html": [
       "<div>\n",
       "<style scoped>\n",
       "    .dataframe tbody tr th:only-of-type {\n",
       "        vertical-align: middle;\n",
       "    }\n",
       "\n",
       "    .dataframe tbody tr th {\n",
       "        vertical-align: top;\n",
       "    }\n",
       "\n",
       "    .dataframe thead th {\n",
       "        text-align: right;\n",
       "    }\n",
       "</style>\n",
       "<table border=\"1\" class=\"dataframe\">\n",
       "  <thead>\n",
       "    <tr style=\"text-align: right;\">\n",
       "      <th></th>\n",
       "      <th>Date</th>\n",
       "      <th>Mean temperature</th>\n",
       "      <th>Humidity</th>\n",
       "      <th>Wind speed</th>\n",
       "      <th>Mean pressure</th>\n",
       "    </tr>\n",
       "  </thead>\n",
       "  <tbody>\n",
       "    <tr>\n",
       "      <th>0</th>\n",
       "      <td>2013-01-01</td>\n",
       "      <td>10.0</td>\n",
       "      <td>84.500000</td>\n",
       "      <td>0.0</td>\n",
       "      <td>1015.666667</td>\n",
       "    </tr>\n",
       "    <tr>\n",
       "      <th>1</th>\n",
       "      <td>2013-01-02</td>\n",
       "      <td>7.4</td>\n",
       "      <td>92.000000</td>\n",
       "      <td>2.98</td>\n",
       "      <td>1017.800000</td>\n",
       "    </tr>\n",
       "    <tr>\n",
       "      <th>2</th>\n",
       "      <td>2013-01-03</td>\n",
       "      <td>7.166666666666667</td>\n",
       "      <td>87.000000</td>\n",
       "      <td>4.633333333333334</td>\n",
       "      <td>1018.666667</td>\n",
       "    </tr>\n",
       "    <tr>\n",
       "      <th>3</th>\n",
       "      <td>2013-01-04</td>\n",
       "      <td>8.666666666666666</td>\n",
       "      <td>71.333333</td>\n",
       "      <td>1.2333333333333334</td>\n",
       "      <td>1017.166667</td>\n",
       "    </tr>\n",
       "    <tr>\n",
       "      <th>4</th>\n",
       "      <td>2013-01-05</td>\n",
       "      <td>6.0</td>\n",
       "      <td>86.833333</td>\n",
       "      <td>3.6999999999999997</td>\n",
       "      <td>1016.500000</td>\n",
       "    </tr>\n",
       "    <tr>\n",
       "      <th>...</th>\n",
       "      <td>...</td>\n",
       "      <td>...</td>\n",
       "      <td>...</td>\n",
       "      <td>...</td>\n",
       "      <td>...</td>\n",
       "    </tr>\n",
       "    <tr>\n",
       "      <th>1467</th>\n",
       "      <td>2016-12-28</td>\n",
       "      <td>17.217391304347824</td>\n",
       "      <td>68.043478</td>\n",
       "      <td>3.547826086956522</td>\n",
       "      <td>1015.565217</td>\n",
       "    </tr>\n",
       "    <tr>\n",
       "      <th>1468</th>\n",
       "      <td>2016-12-29</td>\n",
       "      <td>15.238095238095237</td>\n",
       "      <td>87.857143</td>\n",
       "      <td>6.0</td>\n",
       "      <td>1016.904762</td>\n",
       "    </tr>\n",
       "    <tr>\n",
       "      <th>1469</th>\n",
       "      <td>2016-12-30</td>\n",
       "      <td>14.095238095238095</td>\n",
       "      <td>89.666667</td>\n",
       "      <td>6.266666666666667</td>\n",
       "      <td>1017.904762</td>\n",
       "    </tr>\n",
       "    <tr>\n",
       "      <th>1470</th>\n",
       "      <td>2016-12-31</td>\n",
       "      <td>15.052631578947368</td>\n",
       "      <td>87.000000</td>\n",
       "      <td>7.325</td>\n",
       "      <td>1016.100000</td>\n",
       "    </tr>\n",
       "    <tr>\n",
       "      <th>1471</th>\n",
       "      <td>2017-01-01</td>\n",
       "      <td>10.0</td>\n",
       "      <td>100.000000</td>\n",
       "      <td>0.0</td>\n",
       "      <td>1016.000000</td>\n",
       "    </tr>\n",
       "  </tbody>\n",
       "</table>\n",
       "<p>1472 rows × 5 columns</p>\n",
       "</div>"
      ],
      "text/plain": [
       "            Date    Mean temperature    Humidity          Wind speed  \\\n",
       "0     2013-01-01                10.0   84.500000                 0.0   \n",
       "1     2013-01-02                 7.4   92.000000                2.98   \n",
       "2     2013-01-03   7.166666666666667   87.000000   4.633333333333334   \n",
       "3     2013-01-04   8.666666666666666   71.333333  1.2333333333333334   \n",
       "4     2013-01-05                 6.0   86.833333  3.6999999999999997   \n",
       "...          ...                 ...         ...                 ...   \n",
       "1467  2016-12-28  17.217391304347824   68.043478   3.547826086956522   \n",
       "1468  2016-12-29  15.238095238095237   87.857143                 6.0   \n",
       "1469  2016-12-30  14.095238095238095   89.666667   6.266666666666667   \n",
       "1470  2016-12-31  15.052631578947368   87.000000               7.325   \n",
       "1471  2017-01-01                10.0  100.000000                 0.0   \n",
       "\n",
       "      Mean pressure  \n",
       "0       1015.666667  \n",
       "1       1017.800000  \n",
       "2       1018.666667  \n",
       "3       1017.166667  \n",
       "4       1016.500000  \n",
       "...             ...  \n",
       "1467    1015.565217  \n",
       "1468    1016.904762  \n",
       "1469    1017.904762  \n",
       "1470    1016.100000  \n",
       "1471    1016.000000  \n",
       "\n",
       "[1472 rows x 5 columns]"
      ]
     },
     "execution_count": 202,
     "metadata": {},
     "output_type": "execute_result"
    }
   ],
   "source": [
    "df.columns = ['Date', 'Mean temperature', 'Humidity',\n",
    "              'Wind speed', 'Mean pressure']\n",
    "df"
   ]
  },
  {
   "attachments": {},
   "cell_type": "markdown",
   "metadata": {},
   "source": [
    "*Зміна назв стовпців*"
   ]
  },
  {
   "attachments": {},
   "cell_type": "markdown",
   "metadata": {},
   "source": [
    "## 3.2 Знаходження проблем з даними та виконання попередньої обробки даних для усунення цих проблем"
   ]
  },
  {
   "attachments": {},
   "cell_type": "markdown",
   "metadata": {},
   "source": [
    "### Перевіримо типи даних в стовпцях."
   ]
  },
  {
   "cell_type": "code",
   "execution_count": 203,
   "metadata": {},
   "outputs": [
    {
     "data": {
      "text/plain": [
       "Date                 object\n",
       "Mean temperature     object\n",
       "Humidity            float64\n",
       "Wind speed           object\n",
       "Mean pressure       float64\n",
       "dtype: object"
      ]
     },
     "execution_count": 203,
     "metadata": {},
     "output_type": "execute_result"
    }
   ],
   "source": [
    "df.dtypes"
   ]
  },
  {
   "attachments": {},
   "cell_type": "markdown",
   "metadata": {},
   "source": [
    "*Типи даних*"
   ]
  },
  {
   "attachments": {},
   "cell_type": "markdown",
   "metadata": {},
   "source": [
    "### Приведемо всі типи в датафреймі в тип object."
   ]
  },
  {
   "cell_type": "code",
   "execution_count": 204,
   "metadata": {},
   "outputs": [],
   "source": [
    "df = df.astype('object')"
   ]
  },
  {
   "attachments": {},
   "cell_type": "markdown",
   "metadata": {},
   "source": [
    "*Приведення до типу object*"
   ]
  },
  {
   "attachments": {},
   "cell_type": "markdown",
   "metadata": {},
   "source": [
    "### Перевіримо, чи є пропущенні значення у кожному стовпці. для цього застосуємо метод isna, який повертає для кожного стовпця вектор булевих значень, що позначають, чи елемент пустий. Далі застосуємо метод any, для того щоб дізнатися, чи є хоча б одне пропущене значення."
   ]
  },
  {
   "cell_type": "code",
   "execution_count": 205,
   "metadata": {},
   "outputs": [
    {
     "data": {
      "text/plain": [
       "Date                False\n",
       "Mean temperature     True\n",
       "Humidity             True\n",
       "Wind speed           True\n",
       "Mean pressure        True\n",
       "dtype: bool"
      ]
     },
     "execution_count": 205,
     "metadata": {},
     "output_type": "execute_result"
    }
   ],
   "source": [
    "df.isna().any()"
   ]
  },
  {
   "attachments": {},
   "cell_type": "markdown",
   "metadata": {},
   "source": [
    "*Інформація про присутність пустих значень у стовпцях*"
   ]
  },
  {
   "attachments": {},
   "cell_type": "markdown",
   "metadata": {},
   "source": [
    "### Розберемося з колонкою дат. При роботі я побачив цікаву деталь, що застосувавши pandas.date_range я отримував 1462 рядки, а в колонці дат рядків 1472."
   ]
  },
  {
   "cell_type": "code",
   "execution_count": 206,
   "metadata": {},
   "outputs": [
    {
     "name": "stdout",
     "output_type": "stream",
     "text": [
      "1472 vs 1462\n"
     ]
    }
   ],
   "source": [
    "r = pd.date_range('2013', '2017')\n",
    "print(f'{df[\"Date\"].size} vs {len(r)}')"
   ]
  },
  {
   "attachments": {},
   "cell_type": "markdown",
   "metadata": {},
   "source": [
    "*Підозра на наявність дублікатів в датах*"
   ]
  },
  {
   "attachments": {},
   "cell_type": "markdown",
   "metadata": {},
   "source": [
    "### Приберемо дублікати та перевіремо ще раз."
   ]
  },
  {
   "cell_type": "code",
   "execution_count": 207,
   "metadata": {},
   "outputs": [
    {
     "name": "stdout",
     "output_type": "stream",
     "text": [
      "1462 vs 1462\n"
     ]
    }
   ],
   "source": [
    "df.drop_duplicates(subset=['Date'], inplace=True)\n",
    "print(f'{df[\"Date\"].size} vs {len(r)}')\n",
    "df['Date'] = r"
   ]
  },
  {
   "attachments": {},
   "cell_type": "markdown",
   "metadata": {},
   "source": [
    "*Прибирання дублікатів*"
   ]
  },
  {
   "attachments": {},
   "cell_type": "markdown",
   "metadata": {},
   "source": [
    "### У стовпцях з числами можуть бути символи, що не відповідають загальному виду числа. Приберемо їх на пусті клітинки за допомогою регулярних виразів."
   ]
  },
  {
   "attachments": {},
   "cell_type": "markdown",
   "metadata": {},
   "source": [
    "### Пояснимо регулярний вираз. Його основу складає дана частина: \"[+-]?([0-9]*[.])?[0-9]+\". Вона перевіряє рядок на те, що це або int, або float. Далі треба застосувати інверсію умови, тобто: (.(?!(умова)))."
   ]
  },
  {
   "attachments": {},
   "cell_type": "markdown",
   "metadata": {},
   "source": [
    "### У кінці приведемо усі стовпчики до типу float64."
   ]
  },
  {
   "cell_type": "code",
   "execution_count": 208,
   "metadata": {},
   "outputs": [
    {
     "name": "stderr",
     "output_type": "stream",
     "text": [
      "/tmp/ipykernel_54612/4292456759.py:3: FutureWarning: In a future version, `df.iloc[:, i] = newvals` will attempt to set the values inplace instead of always setting a new array. To retain the old behavior, use either `df[df.columns[i]] = newvals` or, if columns are non-unique, `df.isetitem(i, newvals)`\n",
      "  df.iloc[:, 1:] = df.iloc[:, 1:].astype('float64')\n"
     ]
    },
    {
     "data": {
      "text/plain": [
       "Date                datetime64[ns]\n",
       "Mean temperature           float64\n",
       "Humidity                   float64\n",
       "Wind speed                 float64\n",
       "Mean pressure              float64\n",
       "dtype: object"
      ]
     },
     "execution_count": 208,
     "metadata": {},
     "output_type": "execute_result"
    }
   ],
   "source": [
    "df.replace(to_replace=r'^(.(?!([+-]?([0-9]*[.])?[0-9]+)))*$',\n",
    "           value=np.nan, regex=True, inplace=True)\n",
    "df.iloc[:, 1:] = df.iloc[:, 1:].astype('float64')\n",
    "df.dtypes"
   ]
  },
  {
   "attachments": {},
   "cell_type": "markdown",
   "metadata": {},
   "source": [
    "*Заміна невідповідних клітинок у стовпчиках на -1, приведення типів до float64*"
   ]
  },
  {
   "attachments": {},
   "cell_type": "markdown",
   "metadata": {},
   "source": [
    "### Заповнимо пусті значення на середнє значення для кожного стовпчика відповідно. Застосуємо метод fillna."
   ]
  },
  {
   "cell_type": "code",
   "execution_count": 209,
   "metadata": {},
   "outputs": [
    {
     "data": {
      "text/plain": [
       "Date                False\n",
       "Mean temperature    False\n",
       "Humidity            False\n",
       "Wind speed          False\n",
       "Mean pressure       False\n",
       "dtype: bool"
      ]
     },
     "execution_count": 209,
     "metadata": {},
     "output_type": "execute_result"
    }
   ],
   "source": [
    "for col in df.columns[1:]:\n",
    "    df[col].fillna(df[col].mean(), inplace=True)\n",
    "df.isna().any()"
   ]
  },
  {
   "attachments": {},
   "cell_type": "markdown",
   "metadata": {},
   "source": [
    "*Заміна пустих значень на середнє для кожного стовпчика*"
   ]
  },
  {
   "attachments": {},
   "cell_type": "markdown",
   "metadata": {},
   "source": [
    "### Округлимо до сотих значення. Застосуємо метод round."
   ]
  },
  {
   "cell_type": "code",
   "execution_count": 210,
   "metadata": {},
   "outputs": [
    {
     "data": {
      "text/html": [
       "<div>\n",
       "<style scoped>\n",
       "    .dataframe tbody tr th:only-of-type {\n",
       "        vertical-align: middle;\n",
       "    }\n",
       "\n",
       "    .dataframe tbody tr th {\n",
       "        vertical-align: top;\n",
       "    }\n",
       "\n",
       "    .dataframe thead th {\n",
       "        text-align: right;\n",
       "    }\n",
       "</style>\n",
       "<table border=\"1\" class=\"dataframe\">\n",
       "  <thead>\n",
       "    <tr style=\"text-align: right;\">\n",
       "      <th></th>\n",
       "      <th>Date</th>\n",
       "      <th>Mean temperature</th>\n",
       "      <th>Humidity</th>\n",
       "      <th>Wind speed</th>\n",
       "      <th>Mean pressure</th>\n",
       "    </tr>\n",
       "  </thead>\n",
       "  <tbody>\n",
       "    <tr>\n",
       "      <th>0</th>\n",
       "      <td>2013-01-01</td>\n",
       "      <td>10.00</td>\n",
       "      <td>84.50</td>\n",
       "      <td>0.00</td>\n",
       "      <td>1015.67</td>\n",
       "    </tr>\n",
       "    <tr>\n",
       "      <th>1</th>\n",
       "      <td>2013-01-02</td>\n",
       "      <td>7.40</td>\n",
       "      <td>92.00</td>\n",
       "      <td>2.98</td>\n",
       "      <td>1017.80</td>\n",
       "    </tr>\n",
       "    <tr>\n",
       "      <th>2</th>\n",
       "      <td>2013-01-03</td>\n",
       "      <td>7.17</td>\n",
       "      <td>87.00</td>\n",
       "      <td>4.63</td>\n",
       "      <td>1018.67</td>\n",
       "    </tr>\n",
       "    <tr>\n",
       "      <th>3</th>\n",
       "      <td>2013-01-04</td>\n",
       "      <td>8.67</td>\n",
       "      <td>71.33</td>\n",
       "      <td>1.23</td>\n",
       "      <td>1017.17</td>\n",
       "    </tr>\n",
       "    <tr>\n",
       "      <th>4</th>\n",
       "      <td>2013-01-05</td>\n",
       "      <td>6.00</td>\n",
       "      <td>86.83</td>\n",
       "      <td>3.70</td>\n",
       "      <td>1016.50</td>\n",
       "    </tr>\n",
       "    <tr>\n",
       "      <th>...</th>\n",
       "      <td>...</td>\n",
       "      <td>...</td>\n",
       "      <td>...</td>\n",
       "      <td>...</td>\n",
       "      <td>...</td>\n",
       "    </tr>\n",
       "    <tr>\n",
       "      <th>1467</th>\n",
       "      <td>2016-12-28</td>\n",
       "      <td>17.22</td>\n",
       "      <td>68.04</td>\n",
       "      <td>3.55</td>\n",
       "      <td>1015.57</td>\n",
       "    </tr>\n",
       "    <tr>\n",
       "      <th>1468</th>\n",
       "      <td>2016-12-29</td>\n",
       "      <td>15.24</td>\n",
       "      <td>87.86</td>\n",
       "      <td>6.00</td>\n",
       "      <td>1016.90</td>\n",
       "    </tr>\n",
       "    <tr>\n",
       "      <th>1469</th>\n",
       "      <td>2016-12-30</td>\n",
       "      <td>14.10</td>\n",
       "      <td>89.67</td>\n",
       "      <td>6.27</td>\n",
       "      <td>1017.90</td>\n",
       "    </tr>\n",
       "    <tr>\n",
       "      <th>1470</th>\n",
       "      <td>2016-12-31</td>\n",
       "      <td>15.05</td>\n",
       "      <td>87.00</td>\n",
       "      <td>7.32</td>\n",
       "      <td>1016.10</td>\n",
       "    </tr>\n",
       "    <tr>\n",
       "      <th>1471</th>\n",
       "      <td>2017-01-01</td>\n",
       "      <td>10.00</td>\n",
       "      <td>100.00</td>\n",
       "      <td>0.00</td>\n",
       "      <td>1016.00</td>\n",
       "    </tr>\n",
       "  </tbody>\n",
       "</table>\n",
       "<p>1462 rows × 5 columns</p>\n",
       "</div>"
      ],
      "text/plain": [
       "           Date  Mean temperature  Humidity  Wind speed  Mean pressure\n",
       "0    2013-01-01             10.00     84.50        0.00        1015.67\n",
       "1    2013-01-02              7.40     92.00        2.98        1017.80\n",
       "2    2013-01-03              7.17     87.00        4.63        1018.67\n",
       "3    2013-01-04              8.67     71.33        1.23        1017.17\n",
       "4    2013-01-05              6.00     86.83        3.70        1016.50\n",
       "...         ...               ...       ...         ...            ...\n",
       "1467 2016-12-28             17.22     68.04        3.55        1015.57\n",
       "1468 2016-12-29             15.24     87.86        6.00        1016.90\n",
       "1469 2016-12-30             14.10     89.67        6.27        1017.90\n",
       "1470 2016-12-31             15.05     87.00        7.32        1016.10\n",
       "1471 2017-01-01             10.00    100.00        0.00        1016.00\n",
       "\n",
       "[1462 rows x 5 columns]"
      ]
     },
     "execution_count": 210,
     "metadata": {},
     "output_type": "execute_result"
    }
   ],
   "source": [
    "df.iloc[:, 1:] = df.iloc[:, 1:].round(2)\n",
    "df"
   ]
  },
  {
   "attachments": {},
   "cell_type": "markdown",
   "metadata": {},
   "source": [
    "*Округлення чисел у датафреймі*"
   ]
  },
  {
   "attachments": {},
   "cell_type": "markdown",
   "metadata": {},
   "source": [
    "### Зробимо колонку дат індексом за допомогою методу set_index."
   ]
  },
  {
   "cell_type": "code",
   "execution_count": 211,
   "metadata": {},
   "outputs": [
    {
     "data": {
      "text/html": [
       "<div>\n",
       "<style scoped>\n",
       "    .dataframe tbody tr th:only-of-type {\n",
       "        vertical-align: middle;\n",
       "    }\n",
       "\n",
       "    .dataframe tbody tr th {\n",
       "        vertical-align: top;\n",
       "    }\n",
       "\n",
       "    .dataframe thead th {\n",
       "        text-align: right;\n",
       "    }\n",
       "</style>\n",
       "<table border=\"1\" class=\"dataframe\">\n",
       "  <thead>\n",
       "    <tr style=\"text-align: right;\">\n",
       "      <th></th>\n",
       "      <th>Mean temperature</th>\n",
       "      <th>Humidity</th>\n",
       "      <th>Wind speed</th>\n",
       "      <th>Mean pressure</th>\n",
       "    </tr>\n",
       "    <tr>\n",
       "      <th>Date</th>\n",
       "      <th></th>\n",
       "      <th></th>\n",
       "      <th></th>\n",
       "      <th></th>\n",
       "    </tr>\n",
       "  </thead>\n",
       "  <tbody>\n",
       "    <tr>\n",
       "      <th>2013-01-01</th>\n",
       "      <td>10.00</td>\n",
       "      <td>84.50</td>\n",
       "      <td>0.00</td>\n",
       "      <td>1015.67</td>\n",
       "    </tr>\n",
       "    <tr>\n",
       "      <th>2013-01-02</th>\n",
       "      <td>7.40</td>\n",
       "      <td>92.00</td>\n",
       "      <td>2.98</td>\n",
       "      <td>1017.80</td>\n",
       "    </tr>\n",
       "    <tr>\n",
       "      <th>2013-01-03</th>\n",
       "      <td>7.17</td>\n",
       "      <td>87.00</td>\n",
       "      <td>4.63</td>\n",
       "      <td>1018.67</td>\n",
       "    </tr>\n",
       "    <tr>\n",
       "      <th>2013-01-04</th>\n",
       "      <td>8.67</td>\n",
       "      <td>71.33</td>\n",
       "      <td>1.23</td>\n",
       "      <td>1017.17</td>\n",
       "    </tr>\n",
       "    <tr>\n",
       "      <th>2013-01-05</th>\n",
       "      <td>6.00</td>\n",
       "      <td>86.83</td>\n",
       "      <td>3.70</td>\n",
       "      <td>1016.50</td>\n",
       "    </tr>\n",
       "    <tr>\n",
       "      <th>...</th>\n",
       "      <td>...</td>\n",
       "      <td>...</td>\n",
       "      <td>...</td>\n",
       "      <td>...</td>\n",
       "    </tr>\n",
       "    <tr>\n",
       "      <th>2016-12-28</th>\n",
       "      <td>17.22</td>\n",
       "      <td>68.04</td>\n",
       "      <td>3.55</td>\n",
       "      <td>1015.57</td>\n",
       "    </tr>\n",
       "    <tr>\n",
       "      <th>2016-12-29</th>\n",
       "      <td>15.24</td>\n",
       "      <td>87.86</td>\n",
       "      <td>6.00</td>\n",
       "      <td>1016.90</td>\n",
       "    </tr>\n",
       "    <tr>\n",
       "      <th>2016-12-30</th>\n",
       "      <td>14.10</td>\n",
       "      <td>89.67</td>\n",
       "      <td>6.27</td>\n",
       "      <td>1017.90</td>\n",
       "    </tr>\n",
       "    <tr>\n",
       "      <th>2016-12-31</th>\n",
       "      <td>15.05</td>\n",
       "      <td>87.00</td>\n",
       "      <td>7.32</td>\n",
       "      <td>1016.10</td>\n",
       "    </tr>\n",
       "    <tr>\n",
       "      <th>2017-01-01</th>\n",
       "      <td>10.00</td>\n",
       "      <td>100.00</td>\n",
       "      <td>0.00</td>\n",
       "      <td>1016.00</td>\n",
       "    </tr>\n",
       "  </tbody>\n",
       "</table>\n",
       "<p>1462 rows × 4 columns</p>\n",
       "</div>"
      ],
      "text/plain": [
       "            Mean temperature  Humidity  Wind speed  Mean pressure\n",
       "Date                                                             \n",
       "2013-01-01             10.00     84.50        0.00        1015.67\n",
       "2013-01-02              7.40     92.00        2.98        1017.80\n",
       "2013-01-03              7.17     87.00        4.63        1018.67\n",
       "2013-01-04              8.67     71.33        1.23        1017.17\n",
       "2013-01-05              6.00     86.83        3.70        1016.50\n",
       "...                      ...       ...         ...            ...\n",
       "2016-12-28             17.22     68.04        3.55        1015.57\n",
       "2016-12-29             15.24     87.86        6.00        1016.90\n",
       "2016-12-30             14.10     89.67        6.27        1017.90\n",
       "2016-12-31             15.05     87.00        7.32        1016.10\n",
       "2017-01-01             10.00    100.00        0.00        1016.00\n",
       "\n",
       "[1462 rows x 4 columns]"
      ]
     },
     "execution_count": 211,
     "metadata": {},
     "output_type": "execute_result"
    }
   ],
   "source": [
    "df.set_index('Date', inplace=True)\n",
    "df"
   ]
  },
  {
   "attachments": {},
   "cell_type": "markdown",
   "metadata": {},
   "source": [
    "*Приведення колонки дат до індексу*"
   ]
  },
  {
   "attachments": {},
   "cell_type": "markdown",
   "metadata": {},
   "source": [
    "### Експортуємо датафрейм до .xlsx-файлу за допомогою методу to_excel."
   ]
  },
  {
   "cell_type": "code",
   "execution_count": 214,
   "metadata": {},
   "outputs": [
    {
     "data": {
      "text/html": [
       "<div>\n",
       "<style scoped>\n",
       "    .dataframe tbody tr th:only-of-type {\n",
       "        vertical-align: middle;\n",
       "    }\n",
       "\n",
       "    .dataframe tbody tr th {\n",
       "        vertical-align: top;\n",
       "    }\n",
       "\n",
       "    .dataframe thead th {\n",
       "        text-align: right;\n",
       "    }\n",
       "</style>\n",
       "<table border=\"1\" class=\"dataframe\">\n",
       "  <thead>\n",
       "    <tr style=\"text-align: right;\">\n",
       "      <th></th>\n",
       "      <th>Date</th>\n",
       "      <th>Mean temperature</th>\n",
       "      <th>Humidity</th>\n",
       "      <th>Wind speed</th>\n",
       "      <th>Mean pressure</th>\n",
       "    </tr>\n",
       "  </thead>\n",
       "  <tbody>\n",
       "    <tr>\n",
       "      <th>0</th>\n",
       "      <td>2013-01-01</td>\n",
       "      <td>10.00</td>\n",
       "      <td>84.50</td>\n",
       "      <td>0.00</td>\n",
       "      <td>1015.67</td>\n",
       "    </tr>\n",
       "    <tr>\n",
       "      <th>1</th>\n",
       "      <td>2013-01-02</td>\n",
       "      <td>7.40</td>\n",
       "      <td>92.00</td>\n",
       "      <td>2.98</td>\n",
       "      <td>1017.80</td>\n",
       "    </tr>\n",
       "    <tr>\n",
       "      <th>2</th>\n",
       "      <td>2013-01-03</td>\n",
       "      <td>7.17</td>\n",
       "      <td>87.00</td>\n",
       "      <td>4.63</td>\n",
       "      <td>1018.67</td>\n",
       "    </tr>\n",
       "    <tr>\n",
       "      <th>3</th>\n",
       "      <td>2013-01-04</td>\n",
       "      <td>8.67</td>\n",
       "      <td>71.33</td>\n",
       "      <td>1.23</td>\n",
       "      <td>1017.17</td>\n",
       "    </tr>\n",
       "    <tr>\n",
       "      <th>4</th>\n",
       "      <td>2013-01-05</td>\n",
       "      <td>6.00</td>\n",
       "      <td>86.83</td>\n",
       "      <td>3.70</td>\n",
       "      <td>1016.50</td>\n",
       "    </tr>\n",
       "    <tr>\n",
       "      <th>...</th>\n",
       "      <td>...</td>\n",
       "      <td>...</td>\n",
       "      <td>...</td>\n",
       "      <td>...</td>\n",
       "      <td>...</td>\n",
       "    </tr>\n",
       "    <tr>\n",
       "      <th>1457</th>\n",
       "      <td>2016-12-28</td>\n",
       "      <td>17.22</td>\n",
       "      <td>68.04</td>\n",
       "      <td>3.55</td>\n",
       "      <td>1015.57</td>\n",
       "    </tr>\n",
       "    <tr>\n",
       "      <th>1458</th>\n",
       "      <td>2016-12-29</td>\n",
       "      <td>15.24</td>\n",
       "      <td>87.86</td>\n",
       "      <td>6.00</td>\n",
       "      <td>1016.90</td>\n",
       "    </tr>\n",
       "    <tr>\n",
       "      <th>1459</th>\n",
       "      <td>2016-12-30</td>\n",
       "      <td>14.10</td>\n",
       "      <td>89.67</td>\n",
       "      <td>6.27</td>\n",
       "      <td>1017.90</td>\n",
       "    </tr>\n",
       "    <tr>\n",
       "      <th>1460</th>\n",
       "      <td>2016-12-31</td>\n",
       "      <td>15.05</td>\n",
       "      <td>87.00</td>\n",
       "      <td>7.32</td>\n",
       "      <td>1016.10</td>\n",
       "    </tr>\n",
       "    <tr>\n",
       "      <th>1461</th>\n",
       "      <td>2017-01-01</td>\n",
       "      <td>10.00</td>\n",
       "      <td>100.00</td>\n",
       "      <td>0.00</td>\n",
       "      <td>1016.00</td>\n",
       "    </tr>\n",
       "  </tbody>\n",
       "</table>\n",
       "<p>1462 rows × 5 columns</p>\n",
       "</div>"
      ],
      "text/plain": [
       "           Date  Mean temperature  Humidity  Wind speed  Mean pressure\n",
       "0    2013-01-01             10.00     84.50        0.00        1015.67\n",
       "1    2013-01-02              7.40     92.00        2.98        1017.80\n",
       "2    2013-01-03              7.17     87.00        4.63        1018.67\n",
       "3    2013-01-04              8.67     71.33        1.23        1017.17\n",
       "4    2013-01-05              6.00     86.83        3.70        1016.50\n",
       "...         ...               ...       ...         ...            ...\n",
       "1457 2016-12-28             17.22     68.04        3.55        1015.57\n",
       "1458 2016-12-29             15.24     87.86        6.00        1016.90\n",
       "1459 2016-12-30             14.10     89.67        6.27        1017.90\n",
       "1460 2016-12-31             15.05     87.00        7.32        1016.10\n",
       "1461 2017-01-01             10.00    100.00        0.00        1016.00\n",
       "\n",
       "[1462 rows x 5 columns]"
      ]
     },
     "execution_count": 214,
     "metadata": {},
     "output_type": "execute_result"
    }
   ],
   "source": [
    "name = 'result.xlsx'\n",
    "df.to_excel(name)\n",
    "x1 = pd.ExcelFile(name)\n",
    "x1.parse('Sheet1')"
   ]
  },
  {
   "attachments": {},
   "cell_type": "markdown",
   "metadata": {},
   "source": [
    "*Збереження датафрейму до .xlsx-файлу*"
   ]
  }
 ],
 "metadata": {
  "kernelspec": {
   "display_name": "Python 3",
   "language": "python",
   "name": "python3"
  },
  "language_info": {
   "codemirror_mode": {
    "name": "ipython",
    "version": 3
   },
   "file_extension": ".py",
   "mimetype": "text/x-python",
   "name": "python",
   "nbconvert_exporter": "python",
   "pygments_lexer": "ipython3",
   "version": "3.10.6"
  },
  "orig_nbformat": 4
 },
 "nbformat": 4,
 "nbformat_minor": 2
}
